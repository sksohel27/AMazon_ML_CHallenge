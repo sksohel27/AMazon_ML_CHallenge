{
 "cells": [
  {
   "cell_type": "code",
   "execution_count": 1,
   "id": "6387975a-98eb-4944-b0ef-8be851369d9d",
   "metadata": {},
   "outputs": [],
   "source": [
    "import os\n",
    "import pandas as pd"
   ]
  },
  {
   "cell_type": "code",
   "execution_count": 2,
   "id": "7146615a-bd15-4d87-91b6-a0d9a77d6a49",
   "metadata": {},
   "outputs": [],
   "source": [
    "DATASET_FOLDER = '../dataset/'\n",
    "test = pd.read_csv(os.path.join(DATASET_FOLDER, 'test.csv'))"
   ]
  },
  {
   "cell_type": "code",
   "execution_count": null,
   "id": "601278c3-d536-4700-85cd-aad7e98993c8",
   "metadata": {},
   "outputs": [
    {
     "name": "stderr",
     "output_type": "stream",
     "text": [
      " 99%|██████████████████████████████████████████████████████████████████████████▏| 129842/131187 [24:10<00:42, 32.02it/s]"
     ]
    }
   ],
   "source": [
    "from utils import download_images\n",
    "download_images(test['image_link'], '../images_test')"
   ]
  },
  {
   "cell_type": "code",
   "execution_count": null,
   "id": "b7f85d4c-10c2-40e6-94df-6059f7a24d00",
   "metadata": {},
   "outputs": [],
   "source": []
  }
 ],
 "metadata": {
  "kernelspec": {
   "display_name": "Python 3 (ipykernel)",
   "language": "python",
   "name": "python3"
  },
  "language_info": {
   "codemirror_mode": {
    "name": "ipython",
    "version": 3
   },
   "file_extension": ".py",
   "mimetype": "text/x-python",
   "name": "python",
   "nbconvert_exporter": "python",
   "pygments_lexer": "ipython3",
   "version": "3.10.12"
  }
 },
 "nbformat": 4,
 "nbformat_minor": 5
}
