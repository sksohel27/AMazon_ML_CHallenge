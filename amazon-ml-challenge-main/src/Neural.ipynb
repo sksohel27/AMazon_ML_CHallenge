{
 "cells": [
  {
   "cell_type": "code",
   "execution_count": 2,
   "id": "73890648-6c10-494c-98ce-44f0c038dcda",
   "metadata": {},
   "outputs": [],
   "source": [
    "import os \n",
    "import pandas as pd"
   ]
  },
  {
   "cell_type": "code",
   "execution_count": 3,
   "id": "44da2e3b-6616-476b-8c15-76f3c33e8011",
   "metadata": {},
   "outputs": [],
   "source": [
    "DATASET_FOLDER = '../dataset/'\n",
    "train = pd.read_csv(os.path.join(DATASET_FOLDER, 'train.csv'))\n",
    "test = pd.read_csv(os.path.join(DATASET_FOLDER, 'test.csv'))"
   ]
  },
  {
   "cell_type": "code",
   "execution_count": 4,
   "id": "a613096d-86f1-4877-8a78-72c61e1fad7e",
   "metadata": {},
   "outputs": [
    {
     "name": "stdout",
     "output_type": "stream",
     "text": [
      "                                          image_link   image_filename\n",
      "0  https://m.media-amazon.com/images/I/61I9XdN6OF...  61I9XdN6OFL.jpg\n",
      "1  https://m.media-amazon.com/images/I/71gSRbyXmo...  71gSRbyXmoL.jpg\n",
      "2  https://m.media-amazon.com/images/I/61BZ4zrjZX...  61BZ4zrjZXL.jpg\n",
      "3  https://m.media-amazon.com/images/I/612mrlqiI4...  612mrlqiI4L.jpg\n",
      "4  https://m.media-amazon.com/images/I/617Tl40LOX...  617Tl40LOXL.jpg\n"
     ]
    }
   ],
   "source": [
    "from urllib.parse import urlparse\n",
    "train['image_filename'] = train['image_link'].apply(lambda x: os.path.basename(urlparse(x).path))\n",
    "\n",
    "# Display the dataframe to check the extracted filenames\n",
    "print(train[['image_link', 'image_filename']].head())"
   ]
  },
  {
   "cell_type": "code",
   "execution_count": 5,
   "id": "7d791e28-57bd-4851-8e5e-f252953cd53a",
   "metadata": {},
   "outputs": [
    {
     "data": {
      "text/html": [
       "<div>\n",
       "<style scoped>\n",
       "    .dataframe tbody tr th:only-of-type {\n",
       "        vertical-align: middle;\n",
       "    }\n",
       "\n",
       "    .dataframe tbody tr th {\n",
       "        vertical-align: top;\n",
       "    }\n",
       "\n",
       "    .dataframe thead th {\n",
       "        text-align: right;\n",
       "    }\n",
       "</style>\n",
       "<table border=\"1\" class=\"dataframe\">\n",
       "  <thead>\n",
       "    <tr style=\"text-align: right;\">\n",
       "      <th></th>\n",
       "      <th>image_link</th>\n",
       "      <th>group_id</th>\n",
       "      <th>entity_name</th>\n",
       "      <th>entity_value</th>\n",
       "      <th>image_filename</th>\n",
       "    </tr>\n",
       "  </thead>\n",
       "  <tbody>\n",
       "    <tr>\n",
       "      <th>0</th>\n",
       "      <td>https://m.media-amazon.com/images/I/61I9XdN6OF...</td>\n",
       "      <td>748919</td>\n",
       "      <td>item_weight</td>\n",
       "      <td>500.0 gram</td>\n",
       "      <td>61I9XdN6OFL.jpg</td>\n",
       "    </tr>\n",
       "    <tr>\n",
       "      <th>1</th>\n",
       "      <td>https://m.media-amazon.com/images/I/71gSRbyXmo...</td>\n",
       "      <td>916768</td>\n",
       "      <td>item_volume</td>\n",
       "      <td>1.0 cup</td>\n",
       "      <td>71gSRbyXmoL.jpg</td>\n",
       "    </tr>\n",
       "    <tr>\n",
       "      <th>2</th>\n",
       "      <td>https://m.media-amazon.com/images/I/61BZ4zrjZX...</td>\n",
       "      <td>459516</td>\n",
       "      <td>item_weight</td>\n",
       "      <td>0.709 gram</td>\n",
       "      <td>61BZ4zrjZXL.jpg</td>\n",
       "    </tr>\n",
       "    <tr>\n",
       "      <th>3</th>\n",
       "      <td>https://m.media-amazon.com/images/I/612mrlqiI4...</td>\n",
       "      <td>459516</td>\n",
       "      <td>item_weight</td>\n",
       "      <td>0.709 gram</td>\n",
       "      <td>612mrlqiI4L.jpg</td>\n",
       "    </tr>\n",
       "    <tr>\n",
       "      <th>4</th>\n",
       "      <td>https://m.media-amazon.com/images/I/617Tl40LOX...</td>\n",
       "      <td>731432</td>\n",
       "      <td>item_weight</td>\n",
       "      <td>1400 milligram</td>\n",
       "      <td>617Tl40LOXL.jpg</td>\n",
       "    </tr>\n",
       "  </tbody>\n",
       "</table>\n",
       "</div>"
      ],
      "text/plain": [
       "                                          image_link  group_id  entity_name  \\\n",
       "0  https://m.media-amazon.com/images/I/61I9XdN6OF...    748919  item_weight   \n",
       "1  https://m.media-amazon.com/images/I/71gSRbyXmo...    916768  item_volume   \n",
       "2  https://m.media-amazon.com/images/I/61BZ4zrjZX...    459516  item_weight   \n",
       "3  https://m.media-amazon.com/images/I/612mrlqiI4...    459516  item_weight   \n",
       "4  https://m.media-amazon.com/images/I/617Tl40LOX...    731432  item_weight   \n",
       "\n",
       "     entity_value   image_filename  \n",
       "0      500.0 gram  61I9XdN6OFL.jpg  \n",
       "1         1.0 cup  71gSRbyXmoL.jpg  \n",
       "2      0.709 gram  61BZ4zrjZXL.jpg  \n",
       "3      0.709 gram  612mrlqiI4L.jpg  \n",
       "4  1400 milligram  617Tl40LOXL.jpg  "
      ]
     },
     "execution_count": 5,
     "metadata": {},
     "output_type": "execute_result"
    }
   ],
   "source": [
    "# Remove duplicate rows based on the 'image_id' column\n",
    "train_cleaned = train.drop_duplicates(subset='image_filename', keep='first')\n",
    "\n",
    "train_cleaned.head()\n"
   ]
  },
  {
   "cell_type": "code",
   "execution_count": 6,
   "id": "370a05a6-3f16-4b9f-9615-ce71a7ed481e",
   "metadata": {},
   "outputs": [
    {
     "name": "stderr",
     "output_type": "stream",
     "text": [
      "2024-09-15 23:10:02.287109: I tensorflow/core/util/port.cc:113] oneDNN custom operations are on. You may see slightly different numerical results due to floating-point round-off errors from different computation orders. To turn them off, set the environment variable `TF_ENABLE_ONEDNN_OPTS=0`.\n",
      "2024-09-15 23:10:02.503285: E external/local_xla/xla/stream_executor/cuda/cuda_dnn.cc:9261] Unable to register cuDNN factory: Attempting to register factory for plugin cuDNN when one has already been registered\n",
      "2024-09-15 23:10:02.503319: E external/local_xla/xla/stream_executor/cuda/cuda_fft.cc:607] Unable to register cuFFT factory: Attempting to register factory for plugin cuFFT when one has already been registered\n",
      "2024-09-15 23:10:02.529381: E external/local_xla/xla/stream_executor/cuda/cuda_blas.cc:1515] Unable to register cuBLAS factory: Attempting to register factory for plugin cuBLAS when one has already been registered\n",
      "2024-09-15 23:10:02.594130: I tensorflow/core/platform/cpu_feature_guard.cc:182] This TensorFlow binary is optimized to use available CPU instructions in performance-critical operations.\n",
      "To enable the following instructions: AVX2 AVX_VNNI FMA, in other operations, rebuild TensorFlow with the appropriate compiler flags.\n",
      "2024-09-15 23:10:03.443309: W tensorflow/compiler/tf2tensorrt/utils/py_utils.cc:38] TF-TRT Warning: Could not find TensorRT\n"
     ]
    }
   ],
   "source": [
    "from PIL import ImageFile\n",
    "ImageFile.LOAD_TRUNCATED_IMAGES = True\n",
    "import tensorflow as tf\n",
    "\n",
    "image_count = len(list(os.listdir('../images')))"
   ]
  },
  {
   "cell_type": "code",
   "execution_count": 7,
   "id": "4e74f8e9-5d6a-4ded-914c-7348cbb150be",
   "metadata": {},
   "outputs": [
    {
     "name": "stdout",
     "output_type": "stream",
     "text": [
      "255906\n"
     ]
    }
   ],
   "source": [
    "print(image_count)"
   ]
  },
  {
   "cell_type": "code",
   "execution_count": 8,
   "id": "3d7df3c3-533d-4b8b-9f75-adb1e8ec7f46",
   "metadata": {},
   "outputs": [
    {
     "data": {
      "text/html": [
       "<div>\n",
       "<style scoped>\n",
       "    .dataframe tbody tr th:only-of-type {\n",
       "        vertical-align: middle;\n",
       "    }\n",
       "\n",
       "    .dataframe tbody tr th {\n",
       "        vertical-align: top;\n",
       "    }\n",
       "\n",
       "    .dataframe thead th {\n",
       "        text-align: right;\n",
       "    }\n",
       "</style>\n",
       "<table border=\"1\" class=\"dataframe\">\n",
       "  <thead>\n",
       "    <tr style=\"text-align: right;\">\n",
       "      <th></th>\n",
       "      <th>image_link</th>\n",
       "      <th>group_id</th>\n",
       "      <th>entity_name</th>\n",
       "      <th>entity_value</th>\n",
       "      <th>image_filename</th>\n",
       "    </tr>\n",
       "  </thead>\n",
       "  <tbody>\n",
       "    <tr>\n",
       "      <th>68934</th>\n",
       "      <td>https://m.media-amazon.com/images/I/61sSATGiyw...</td>\n",
       "      <td>916768</td>\n",
       "      <td>item_weight</td>\n",
       "      <td>8.4 pound</td>\n",
       "      <td>61sSATGiywL.jpg</td>\n",
       "    </tr>\n",
       "    <tr>\n",
       "      <th>194488</th>\n",
       "      <td>https://m.media-amazon.com/images/I/51BfGhP5lp...</td>\n",
       "      <td>752266</td>\n",
       "      <td>depth</td>\n",
       "      <td>150.0 centimetre</td>\n",
       "      <td>51BfGhP5lpL.jpg</td>\n",
       "    </tr>\n",
       "    <tr>\n",
       "      <th>255465</th>\n",
       "      <td>https://m.media-amazon.com/images/I/51N60ckObx...</td>\n",
       "      <td>178778</td>\n",
       "      <td>height</td>\n",
       "      <td>20.0 centimetre</td>\n",
       "      <td>51N60ckObxL.jpg</td>\n",
       "    </tr>\n",
       "    <tr>\n",
       "      <th>123727</th>\n",
       "      <td>https://m.media-amazon.com/images/I/71AUg2FsKr...</td>\n",
       "      <td>120219</td>\n",
       "      <td>maximum_weight_recommendation</td>\n",
       "      <td>0.1 gram</td>\n",
       "      <td>71AUg2FsKrL.jpg</td>\n",
       "    </tr>\n",
       "    <tr>\n",
       "      <th>17715</th>\n",
       "      <td>https://m.media-amazon.com/images/I/714T5Rf5iC...</td>\n",
       "      <td>507467</td>\n",
       "      <td>item_weight</td>\n",
       "      <td>2120 kilogram</td>\n",
       "      <td>714T5Rf5iCL.jpg</td>\n",
       "    </tr>\n",
       "  </tbody>\n",
       "</table>\n",
       "</div>"
      ],
      "text/plain": [
       "                                               image_link  group_id  \\\n",
       "68934   https://m.media-amazon.com/images/I/61sSATGiyw...    916768   \n",
       "194488  https://m.media-amazon.com/images/I/51BfGhP5lp...    752266   \n",
       "255465  https://m.media-amazon.com/images/I/51N60ckObx...    178778   \n",
       "123727  https://m.media-amazon.com/images/I/71AUg2FsKr...    120219   \n",
       "17715   https://m.media-amazon.com/images/I/714T5Rf5iC...    507467   \n",
       "\n",
       "                          entity_name      entity_value   image_filename  \n",
       "68934                     item_weight         8.4 pound  61sSATGiywL.jpg  \n",
       "194488                          depth  150.0 centimetre  51BfGhP5lpL.jpg  \n",
       "255465                         height   20.0 centimetre  51N60ckObxL.jpg  \n",
       "123727  maximum_weight_recommendation          0.1 gram  71AUg2FsKrL.jpg  \n",
       "17715                     item_weight     2120 kilogram  714T5Rf5iCL.jpg  "
      ]
     },
     "execution_count": 8,
     "metadata": {},
     "output_type": "execute_result"
    }
   ],
   "source": [
    "train_cleaned.sample(5)"
   ]
  },
  {
   "cell_type": "code",
   "execution_count": 9,
   "id": "28019b36-0c9c-45fe-87ad-f3a9fc951625",
   "metadata": {},
   "outputs": [
    {
     "data": {
      "text/plain": [
       "'import os\\nimport cv2\\nimport numpy as np\\n\\n# Define image dimensions\\nIMG_HEIGHT, IMG_WIDTH, CHANNELS = 128, 128, 3\\n\\n# Define the directory where images are stored\\nIMAGE_DIR = \\'../images/\\'\\n\\ndef preprocess_image(image_filename):\\n    # Construct the full image path\\n    image_path = os.path.join(IMAGE_DIR, image_filename)\\n    \\n    # Load the image from file\\n    img = cv2.imread(image_path)\\n    \\n    # Check if the image was successfully loaded\\n    if img is None:\\n        print(f\"Error loading image: {image_path}\")\\n        return np.zeros((IMG_HEIGHT, IMG_WIDTH, CHANNELS))  # Return a blank image or handle appropriately\\n    \\n    # Resize the image\\n    img = cv2.resize(img, (IMG_WIDTH, IMG_HEIGHT))\\n    \\n    # Normalize pixel values\\n    img = img / 255.0\\n    \\n    return img\\n\\n# Apply this function to all image filenames in the DataFrame\\ntrain_cleaned[\\'image_data\\'] = train_cleaned[\\'image_filename\\'].apply(preprocess_image)\\n\\n# Convert image data to numpy array\\nX_images = np.array(train_cleaned[\\'image_data\\'].tolist())\\n'"
      ]
     },
     "execution_count": 9,
     "metadata": {},
     "output_type": "execute_result"
    }
   ],
   "source": [
    "'''import os\n",
    "import cv2\n",
    "import numpy as np\n",
    "\n",
    "# Define image dimensions\n",
    "IMG_HEIGHT, IMG_WIDTH, CHANNELS = 128, 128, 3\n",
    "\n",
    "# Define the directory where images are stored\n",
    "IMAGE_DIR = '../images/'\n",
    "\n",
    "def preprocess_image(image_filename):\n",
    "    # Construct the full image path\n",
    "    image_path = os.path.join(IMAGE_DIR, image_filename)\n",
    "    \n",
    "    # Load the image from file\n",
    "    img = cv2.imread(image_path)\n",
    "    \n",
    "    # Check if the image was successfully loaded\n",
    "    if img is None:\n",
    "        print(f\"Error loading image: {image_path}\")\n",
    "        return np.zeros((IMG_HEIGHT, IMG_WIDTH, CHANNELS))  # Return a blank image or handle appropriately\n",
    "    \n",
    "    # Resize the image\n",
    "    img = cv2.resize(img, (IMG_WIDTH, IMG_HEIGHT))\n",
    "    \n",
    "    # Normalize pixel values\n",
    "    img = img / 255.0\n",
    "    \n",
    "    return img\n",
    "\n",
    "# Apply this function to all image filenames in the DataFrame\n",
    "train_cleaned['image_data'] = train_cleaned['image_filename'].apply(preprocess_image)\n",
    "\n",
    "# Convert image data to numpy array\n",
    "X_images = np.array(train_cleaned['image_data'].tolist())\n",
    "'''"
   ]
  },
  {
   "cell_type": "code",
   "execution_count": null,
   "id": "869113a7-c3eb-4ca4-a99b-f75a2e1bb544",
   "metadata": {},
   "outputs": [
    {
     "name": "stderr",
     "output_type": "stream",
     "text": [
      "Premature end of JPEG file\n"
     ]
    }
   ],
   "source": [
    "import os\n",
    "import cv2\n",
    "import numpy as np\n",
    "from concurrent.futures import ThreadPoolExecutor\n",
    "\n",
    "# Define image dimensions\n",
    "IMG_HEIGHT, IMG_WIDTH, CHANNELS = 128, 128, 3\n",
    "IMAGE_DIR = '../images/'\n",
    "\n",
    "def preprocess_image(image_filename):\n",
    "    image_path = os.path.join(IMAGE_DIR, image_filename)\n",
    "    img = cv2.imread(image_path)\n",
    "    if img is None:\n",
    "        return np.zeros((IMG_HEIGHT, IMG_WIDTH, CHANNELS))\n",
    "    img = cv2.resize(img, (IMG_WIDTH, IMG_HEIGHT))\n",
    "    img = img / 255.0\n",
    "    return img\n",
    "\n",
    "def process_images_in_batches(image_filenames, batch_size=1000):\n",
    "    all_image_data = []\n",
    "    \n",
    "    for i in range(0, len(image_filenames), batch_size):\n",
    "        batch = image_filenames[i:i+batch_size]\n",
    "        \n",
    "        with ThreadPoolExecutor(max_workers=4) as executor:  # Adjust `max_workers` based on CPU cores\n",
    "            batch_image_data = list(executor.map(preprocess_image, batch))\n",
    "        \n",
    "        all_image_data.extend(batch_image_data)\n",
    "    \n",
    "    return all_image_data\n",
    "\n",
    "# Apply to DataFrame in batches (adjust batch size depending on memory)\n",
    "image_filenames = train_cleaned['image_filename'].tolist()\n",
    "train_cleaned['image_data'] = process_images_in_batches(image_filenames, batch_size=5000)\n",
    "\n",
    "# Convert image data to numpy array\n",
    "X_images = np.array(train_cleaned['image_data'].tolist())\n"
   ]
  },
  {
   "cell_type": "code",
   "execution_count": null,
   "id": "de503e2d-8002-418e-bc4d-b510b3407057",
   "metadata": {},
   "outputs": [],
   "source": []
  }
 ],
 "metadata": {
  "kernelspec": {
   "display_name": "Python 3 (ipykernel)",
   "language": "python",
   "name": "python3"
  },
  "language_info": {
   "codemirror_mode": {
    "name": "ipython",
    "version": 3
   },
   "file_extension": ".py",
   "mimetype": "text/x-python",
   "name": "python",
   "nbconvert_exporter": "python",
   "pygments_lexer": "ipython3",
   "version": "3.10.12"
  }
 },
 "nbformat": 4,
 "nbformat_minor": 5
}
